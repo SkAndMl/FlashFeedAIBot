{
 "cells": [
  {
   "cell_type": "code",
   "execution_count": 1,
   "metadata": {},
   "outputs": [],
   "source": [
    "import requests\n",
    "from bs4 import BeautifulSoup\n",
    "from fake_useragent import UserAgent\n",
    "from typing import List"
   ]
  },
  {
   "cell_type": "code",
   "execution_count": 2,
   "metadata": {},
   "outputs": [],
   "source": [
    "def get_links(query: str,\n",
    "              num_links: int=4):\n",
    "    \n",
    "    query = query.replace(\" \", \"+\")\n",
    "    link = f\"https://www.google.com/search?q={query}&tbm=nws\"\n",
    "    ua = UserAgent()\n",
    "    response = requests.get(\n",
    "        url=link,\n",
    "        headers={\"User-Agent\" : ua.random}\n",
    "    )\n",
    "    soup = BeautifulSoup(response.text, \"lxml\")\n",
    "    links = []\n",
    "    for li in soup.find_all(\"a\", class_=\"WlydOe\", href=True)[:num_links]:\n",
    "        links.append(li[\"href\"])\n",
    "    return links"
   ]
  },
  {
   "cell_type": "code",
   "execution_count": 3,
   "metadata": {},
   "outputs": [
    {
     "data": {
      "text/plain": [
       "['https://www.thehindu.com/news/cities/puducherry/puducherry-technological-university-teachers-go-on-day-long-hunger-strike-demand-removal-of-registrar/article67254842.ece',\n",
       " 'https://english.mathrubhumi.com/education/admissions/research-admissions-at-puducherry-technological-university-1.8718082',\n",
       " 'https://www.thehindu.com/news/cities/puducherry/b-tech-freshers-inducted-at-ptu/article67299128.ece',\n",
       " 'https://www.newindianexpress.com/states/tamil-nadu/2023/jun/03/teachers-assn-urges-l-g-to-constituteboard-of-governors-for-pondicherry-technological-university-2581284.html']"
      ]
     },
     "execution_count": 3,
     "metadata": {},
     "output_type": "execute_result"
    }
   ],
   "source": [
    "links = get_links(query=\"Puducherry Technological University\")\n",
    "links"
   ]
  },
  {
   "cell_type": "code",
   "execution_count": 4,
   "metadata": {},
   "outputs": [],
   "source": [
    "def get_text_content(links: str) -> List[str]:\n",
    "    texts = []\n",
    "    ua = UserAgent()\n",
    "    for link in links:\n",
    "        response = requests.get(\n",
    "            url=link,\n",
    "            headers={\"User-Agent\" : ua.random}\n",
    "        )\n",
    "        texts.append(BeautifulSoup(response.text, \"lxml\").text)\n",
    "    return texts"
   ]
  },
  {
   "cell_type": "code",
   "execution_count": 5,
   "metadata": {},
   "outputs": [],
   "source": [
    "texta = get_text_content(links=links)"
   ]
  },
  {
   "cell_type": "code",
   "execution_count": 6,
   "metadata": {},
   "outputs": [
    {
     "name": "stderr",
     "output_type": "stream",
     "text": [
      "/Users/sathyakrishnansuresh/Desktop/wp_news_bot/venv/lib/python3.11/site-packages/tqdm/auto.py:21: TqdmWarning: IProgress not found. Please update jupyter and ipywidgets. See https://ipywidgets.readthedocs.io/en/stable/user_install.html\n",
      "  from .autonotebook import tqdm as notebook_tqdm\n"
     ]
    }
   ],
   "source": [
    "import transformers"
   ]
  },
  {
   "cell_type": "code",
   "execution_count": 9,
   "metadata": {},
   "outputs": [
    {
     "name": "stderr",
     "output_type": "stream",
     "text": []
    }
   ],
   "source": [
    "model = transformers.AutoModelForSeq2SeqLM.from_pretrained(\n",
    "    \"facebook/bart-large-cnn\"\n",
    ")"
   ]
  },
  {
   "cell_type": "code",
   "execution_count": null,
   "metadata": {},
   "outputs": [],
   "source": [
    "summarizer = transformers.pipeline(\"summarization\",\n",
    "                                   model=model)"
   ]
  },
  {
   "cell_type": "code",
   "execution_count": null,
   "metadata": {},
   "outputs": [],
   "source": [
    "summary = summarizer(text=texta)"
   ]
  },
  {
   "cell_type": "code",
   "execution_count": null,
   "metadata": {},
   "outputs": [],
   "source": [
    "print(summary)"
   ]
  },
  {
   "cell_type": "code",
   "execution_count": null,
   "metadata": {},
   "outputs": [],
   "source": []
  }
 ],
 "metadata": {
  "kernelspec": {
   "display_name": "venv",
   "language": "python",
   "name": "python3"
  },
  "language_info": {
   "codemirror_mode": {
    "name": "ipython",
    "version": 3
   },
   "file_extension": ".py",
   "mimetype": "text/x-python",
   "name": "python",
   "nbconvert_exporter": "python",
   "pygments_lexer": "ipython3",
   "version": "3.11.5"
  },
  "orig_nbformat": 4
 },
 "nbformat": 4,
 "nbformat_minor": 2
}
